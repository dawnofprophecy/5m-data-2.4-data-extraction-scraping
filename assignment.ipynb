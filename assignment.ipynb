{
 "cells": [
  {
   "cell_type": "markdown",
   "id": "0e6a5a19",
   "metadata": {},
   "source": [
    "# Assignment\n",
    "\n",
    "## Brief\n",
    "\n",
    "Write the Python codes for the following questions.\n",
    "\n",
    "## Instructions\n",
    "\n",
    "Paste the answer as Python in the answer code section below each question.\n",
    "\n",
    "### Question 1\n",
    "\n",
    "Question: The scraping of `https://www.scrapethissite.com/pages/forms/` in the last section assumes a hardcoded (fixed) no of pages. Can you improve the code by removing the hardcoded no of pages and instead use the `»` button to determine if there are more pages to scrape? Hint: Use a `while` loop."
   ]
  },
  {
   "cell_type": "code",
   "execution_count": null,
   "id": "6ca6ed44",
   "metadata": {},
   "outputs": [],
   "source": [
    "def parse_and_extract_rows(soup: BeautifulSoup):\n",
    "    \"\"\"\n",
    "    Extract table rows from the parsed HTML.\n",
    "\n",
    "    Args:\n",
    "        soup: The parsed HTML.\n",
    "\n",
    "    Returns:\n",
    "        An iterator of dictionaries with the data from the current page.\n",
    "    \"\"\"\n",
    "    header = soup.find('tr')\n",
    "    headers = [th.text.strip() for th in header.find_all('th')]\n",
    "    teams = soup.find_all('tr', 'team')\n",
    "    for team in teams:\n",
    "        row_dict = {}\n",
    "        for header, col in zip(headers, team.find_all('td')):\n",
    "            row_dict[header] = col.text.strip()\n",
    "        yield row_dict"
   ]
  },
  {
   "cell_type": "markdown",
   "id": "1e80eb03",
   "metadata": {},
   "source": [
    "### Answer"
   ]
  },
  {
   "cell_type": "code",
   "execution_count": 9,
   "id": "6ad53dde",
   "metadata": {},
   "outputs": [
    {
     "name": "stdout",
     "output_type": "stream",
     "text": [
      "page 1: 25 rows\n",
      "page 2: 25 rows\n",
      "page 3: 25 rows\n",
      "page 4: 25 rows\n",
      "page 5: 25 rows\n",
      "page 6: 25 rows\n",
      "page 7: 25 rows\n",
      "page 8: 25 rows\n",
      "page 9: 25 rows\n",
      "page 10: 25 rows\n",
      "page 11: 25 rows\n",
      "page 12: 25 rows\n",
      "page 13: 25 rows\n",
      "page 14: 25 rows\n",
      "page 15: 25 rows\n",
      "page 16: 25 rows\n",
      "page 17: 25 rows\n",
      "page 18: 25 rows\n",
      "page 19: 25 rows\n",
      "page 20: 25 rows\n",
      "page 21: 25 rows\n",
      "page 22: 25 rows\n",
      "page 23: 25 rows\n",
      "page 24: 7 rows\n",
      "page 25: 0 rows\n",
      "TOTAL: 582 rows from 24 pages\n"
     ]
    }
   ],
   "source": [
    "import requests\n",
    "from bs4 import BeautifulSoup\n",
    "import pandas as pd\n",
    "import time\n",
    "\n",
    "def parse_and_extract_rows(soup: BeautifulSoup):\n",
    "    \"\"\"\n",
    "    Extract table rows from the parsed HTML.\n",
    "\n",
    "    Args:\n",
    "        soup: The parsed HTML.\n",
    "\n",
    "    Returns:\n",
    "        An iterator of dictionaries with the data from the current page.\n",
    "    \"\"\"\n",
    "    header = soup.find('tr')\n",
    "    headers = [th.text.strip() for th in header.find_all('th')]\n",
    "    teams = soup.find_all('tr', 'team')\n",
    "    for team in teams:\n",
    "        row_dict = {}\n",
    "        for header, col in zip(headers, team.find_all('td')):\n",
    "            row_dict[header] = col.text.strip()\n",
    "        yield row_dict\n",
    "\n",
    "BASE_URL = \"https://www.scrapethissite.com/pages/forms/\"\n",
    "HEADERS = {\"User-Agent\": \"Mozilla/5.0 (compatible; pagination-bot/1.0)\"}\n",
    "\n",
    "all_rows = []\n",
    "page = 1\n",
    "\n",
    "while True:\n",
    "    # fetch one page by page_num\n",
    "    resp = requests.get(BASE_URL, params={\"page_num\": page}, headers=HEADERS, timeout=20)\n",
    "    resp.raise_for_status()\n",
    "    soup = BeautifulSoup(resp.text, \"html.parser\")\n",
    "\n",
    "    # parse rows on this page\n",
    "    page_rows = list(parse_and_extract_rows(soup))\n",
    "    print(f\"page {page}: {len(page_rows)} rows\")\n",
    "\n",
    "    if not page_rows:\n",
    "        break  # no data -> we reached past the last page\n",
    "\n",
    "    all_rows.extend(page_rows)\n",
    "    page += 1\n",
    "    time.sleep(0.3)  # polite pause\n",
    "\n",
    "print(f\"TOTAL: {len(all_rows)} rows from {page-1} pages\")\n"
   ]
  },
  {
   "cell_type": "markdown",
   "id": "3ea615a7",
   "metadata": {},
   "source": [
    "## Submission\n",
    "\n",
    "- Submit the URL of the GitHub Repository that contains your work to NTU black board.\n",
    "- Should you reference the work of your classmate(s) or online resources, give them credit by adding either the name of your classmate or URL.\n"
   ]
  }
 ],
 "metadata": {
  "kernelspec": {
   "display_name": "bde",
   "language": "python",
   "name": "python3"
  },
  "language_info": {
   "codemirror_mode": {
    "name": "ipython",
    "version": 3
   },
   "file_extension": ".py",
   "mimetype": "text/x-python",
   "name": "python",
   "nbconvert_exporter": "python",
   "pygments_lexer": "ipython3",
   "version": "3.10.13"
  }
 },
 "nbformat": 4,
 "nbformat_minor": 5
}
